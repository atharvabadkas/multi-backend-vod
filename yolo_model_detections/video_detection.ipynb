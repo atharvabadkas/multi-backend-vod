{
 "cells": [
  {
   "cell_type": "code",
   "execution_count": null,
   "metadata": {},
   "outputs": [],
   "source": [
    "import cv2\n",
    "from ultralytics import YOLO\n",
    "import numpy as np\n",
    "\n",
    "cap = cv2.VideoCapture(\"cosmetics.mp4\")\n",
    "\n",
    "model = YOLO(\"yolov8m.pt\")\n",
    "\n",
    "while True:\n",
    "\n",
    "    ret, frame = cap.read()\n",
    "    if not ret:\n",
    "        break\n",
    "\n",
    "    results = model(frame, device=\"mps\")\n",
    "    result = results[0]\n",
    "    bboxes = np.array(result.boxes.xyxy.cpu(), dtype=\"int\")\n",
    "    classes = np.array(result.boxes.cls.cpu(), dtype=\"int\")\n",
    "    \n",
    "    for cls, bbox in zip(classes, bboxes):\n",
    "        x, y, x2, y2 = bbox\n",
    "\n",
    "        cv2.rectangle(frame, (x, y), (x2, y2), (0, 0, 225), 2)\n",
    "        cv2.putText(frame, str(cls), (x, y -10), cv2.FONT_HERSHEY_SIMPLEX, 2, (0,0,225), 2)\n",
    "\n",
    "\n",
    "    cv2.imshow(\"Img\", frame)\n",
    "    key = cv2.waitKey(1)\n",
    "    if key == 27:\n",
    "        break\n",
    "\n",
    "cap.release()\n",
    "cv2.destroyAllWindows()"
   ]
  }
 ],
 "metadata": {
  "kernelspec": {
   "display_name": "base",
   "language": "python",
   "name": "python3"
  },
  "language_info": {
   "codemirror_mode": {
    "name": "ipython",
    "version": 3
   },
   "file_extension": ".py",
   "mimetype": "text/x-python",
   "name": "python",
   "nbconvert_exporter": "python",
   "pygments_lexer": "ipython3",
   "version": "3.12.8"
  }
 },
 "nbformat": 4,
 "nbformat_minor": 2
}
